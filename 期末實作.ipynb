{
  "nbformat": 4,
  "nbformat_minor": 0,
  "metadata": {
    "colab": {
      "provenance": [],
      "authorship_tag": "ABX9TyOwY3O7nqu/Bt4LQu6NY4Oq",
      "include_colab_link": true
    },
    "kernelspec": {
      "name": "python3",
      "display_name": "Python 3"
    },
    "language_info": {
      "name": "python"
    }
  },
  "cells": [
    {
      "cell_type": "markdown",
      "metadata": {
        "id": "view-in-github",
        "colab_type": "text"
      },
      "source": [
        "<a href=\"https://colab.research.google.com/github/Hmxuan/homework/blob/main/%E6%9C%9F%E6%9C%AB%E5%AF%A6%E4%BD%9C.ipynb\" target=\"_parent\"><img src=\"https://colab.research.google.com/assets/colab-badge.svg\" alt=\"Open In Colab\"/></a>"
      ]
    },
    {
      "cell_type": "code",
      "execution_count": 5,
      "metadata": {
        "colab": {
          "base_uri": "https://localhost:8080/"
        },
        "id": "jl2P4LaosAVg",
        "outputId": "8cbf419b-d00b-484e-d5a9-2a1a8609a0e1"
      },
      "outputs": [
        {
          "output_type": "stream",
          "name": "stdout",
          "text": [
            "遊歷順序: A -> E -> D -> B -> C -> F -> G\n",
            "總共花費的旅費： 46422.9\n"
          ]
        }
      ],
      "source": [
        "import math\n",
        "\n",
        "class City:\n",
        "    def __init__(self, name, coordinates, accommodation_cost):\n",
        "        self.name = name\n",
        "        self.coordinates = coordinates\n",
        "        self.accommodation_cost = accommodation_cost\n",
        "\n",
        "def calculate_discounted_cost(previous_city, current_city):\n",
        "    if previous_city is None:\n",
        "        return current_city.accommodation_cost\n",
        "    elif previous_city.name in ['C', 'G'] and current_city.name == 'A':\n",
        "        return current_city.accommodation_cost * 0.2\n",
        "    elif previous_city.name in ['D', 'E'] and current_city.name == 'B':\n",
        "        return current_city.accommodation_cost * 0.2\n",
        "    elif previous_city.name in ['A', 'C'] and current_city.name == 'F':\n",
        "        return current_city.accommodation_cost * 0.2\n",
        "    elif previous_city.name in ['E', 'F'] and current_city.name == 'G':\n",
        "        return current_city.accommodation_cost * 0.2\n",
        "    else:\n",
        "        return current_city.accommodation_cost\n",
        "\n",
        "def calculate_distance(city1, city2):\n",
        "    x1, y1 = city1.coordinates\n",
        "    x2, y2 = city2.coordinates\n",
        "    return math.sqrt((x2 - x1) ** 2 + (y2 - y1) ** 2)\n",
        "\n",
        "cities = [\n",
        "    City('A', (0, 0), 2000),\n",
        "    City('B', (0, 120), 2400),\n",
        "    City('C', (30, 100), 2400),\n",
        "    City('D', (80, 0), 1600),\n",
        "    City('E', (45, 10), 1500),\n",
        "    City('F', (90, 160), 2200),\n",
        "    City('G', (120, 200), 1200)\n",
        "]\n",
        "\n",
        "min_cost = float('inf')\n",
        "min_path = []\n",
        "\n",
        "def find_cheapest_path(path, visited, total_cost):\n",
        "    global min_cost, min_path\n",
        "\n",
        "    if len(path) == len(cities):\n",
        "        if total_cost < min_cost:\n",
        "            min_cost = total_cost\n",
        "            min_path = path.copy()\n",
        "    else:\n",
        "        for city in cities:\n",
        "            if city not in visited:\n",
        "                if len(path) > 0:\n",
        "                    previous_city = path[-1]\n",
        "                    distance = calculate_distance(previous_city, city)\n",
        "                    fuel_cost = distance * 100  # 油費每公里100元\n",
        "                    accommodation_cost = calculate_discounted_cost(previous_city, city)\n",
        "                    new_total_cost = total_cost + fuel_cost + accommodation_cost\n",
        "                    if new_total_cost < min_cost:\n",
        "                        path.append(city)\n",
        "                        visited.add(city)\n",
        "                        find_cheapest_path(path, visited, new_total_cost)\n",
        "                        visited.remove(city)\n",
        "                        path.pop()\n",
        "                else:\n",
        "                    path.append(city)\n",
        "                    visited.add(city)\n",
        "                    find_cheapest_path(path, visited, total_cost)\n",
        "                    visited.remove(city)\n",
        "                    path.pop()\n",
        "\n",
        "start_city = cities[0]\n",
        "find_cheapest_path([start_city], {start_city}, 0)\n",
        "\n",
        "order = ' -> '.join([city.name for city in min_path])\n",
        "print(\"遊歷順序:\", order)\n",
        "\n",
        "print(\"總共花費的旅費：\", round(min_cost, 1))\n"
      ]
    }
  ]
}