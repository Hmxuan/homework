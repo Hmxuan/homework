{
  "nbformat": 4,
  "nbformat_minor": 0,
  "metadata": {
    "colab": {
      "provenance": [],
      "authorship_tag": "ABX9TyN3b4Q/hYlVueHP6PIvVD4S",
      "include_colab_link": true
    },
    "kernelspec": {
      "name": "python3",
      "display_name": "Python 3"
    },
    "language_info": {
      "name": "python"
    }
  },
  "cells": [
    {
      "cell_type": "markdown",
      "metadata": {
        "id": "view-in-github",
        "colab_type": "text"
      },
      "source": [
        "<a href=\"https://colab.research.google.com/github/Hmxuan/homework/blob/main/%E4%BD%9C%E6%A5%AD%E4%BA%8C.ipynb\" target=\"_parent\"><img src=\"https://colab.research.google.com/assets/colab-badge.svg\" alt=\"Open In Colab\"/></a>"
      ]
    },
    {
      "cell_type": "markdown",
      "source": [
        "1.總共多少文字？(空格不算字元)\n"
      ],
      "metadata": {
        "id": "xMCBY9msCeco"
      }
    },
    {
      "cell_type": "code",
      "source": [
        "a=str(\" 大道之行也，天  下為公。 選賢與能，講信  修睦。故人不獨親其親，不獨子其子；使老有所終，壯有 所用，幼有 所長，矜寡孤獨廢疾者，皆有所養；男有分 女有歸。貨惡其棄 於地也不必藏於  己；力惡其不  出於身也不必為己。是故 謀閉而不興 ，盜竊亂賊而不作，故外戶而 不閉，是謂「大同」。\")\n",
        "\n",
        "b=a.replace(' ','')\n",
        "\n",
        "print(len(b))"
      ],
      "metadata": {
        "colab": {
          "base_uri": "https://localhost:8080/"
        },
        "id": "UwjtTLcWBP8o",
        "outputId": "030b1df3-405c-4223-a11f-50a6a61e044f"
      },
      "execution_count": 18,
      "outputs": [
        {
          "output_type": "stream",
          "name": "stdout",
          "text": [
            "127\n"
          ]
        }
      ]
    },
    {
      "cell_type": "markdown",
      "source": [
        "2.文章分段落顯示出來(每句話以一行顯示)\n"
      ],
      "metadata": {
        "id": "iUFMTkSsCmv4"
      }
    },
    {
      "cell_type": "code",
      "source": [
        "c=b.replace('。', '。\\n').replace('；', '；\\n').replace('，', '，\\n')\n",
        "\n",
        "d=c.replace('。','').replace('；','').replace('，','')\n",
        "\n",
        "print(d)"
      ],
      "metadata": {
        "colab": {
          "base_uri": "https://localhost:8080/"
        },
        "id": "lAl2MvNPHmea",
        "outputId": "3f17eeec-24a8-4c25-af26-4047598a81ce"
      },
      "execution_count": 35,
      "outputs": [
        {
          "output_type": "stream",
          "name": "stdout",
          "text": [
            "大道之行也\n",
            "天下為公\n",
            "選賢與能\n",
            "講信修睦\n",
            "故人不獨親其親\n",
            "不獨子其子\n",
            "使老有所終\n",
            "壯有所用\n",
            "幼有所長\n",
            "矜寡孤獨廢疾者\n",
            "皆有所養\n",
            "男有分女有歸\n",
            "貨惡其棄於地也不必藏於己\n",
            "力惡其不出於身也不必為己\n",
            "是故謀閉而不興\n",
            "盜竊亂賊而不作\n",
            "故外戶而不閉\n",
            "是謂「大同」\n",
            "\n"
          ]
        }
      ]
    },
    {
      "cell_type": "markdown",
      "source": [
        "3.文章中共有多少的“不”字？\n"
      ],
      "metadata": {
        "id": "-CfK_t7gC8zB"
      }
    },
    {
      "cell_type": "code",
      "source": [
        "z=b.count('不')\n",
        "\n",
        "print(z)\n"
      ],
      "metadata": {
        "colab": {
          "base_uri": "https://localhost:8080/"
        },
        "id": "6hDxADQZC-15",
        "outputId": "d67e2cd3-d124-409a-fad7-fc1bb8769416"
      },
      "execution_count": 20,
      "outputs": [
        {
          "output_type": "stream",
          "name": "stdout",
          "text": [
            "8\n"
          ]
        }
      ]
    }
  ]
}